{
  "nbformat": 4,
  "nbformat_minor": 0,
  "metadata": {
    "colab": {
      "name": "homework3",
      "provenance": [],
      "collapsed_sections": []
    },
    "kernelspec": {
      "name": "python3",
      "display_name": "Python 3"
    }
  },
  "cells": [
    {
      "cell_type": "code",
      "metadata": {
        "id": "Zuxx_4P2dAqt",
        "colab_type": "code",
        "colab": {}
      },
      "source": [
        "###PALINDROME CHECKER"
      ],
      "execution_count": 0,
      "outputs": []
    },
    {
      "cell_type": "code",
      "metadata": {
        "id": "OsUbFPZn8X27",
        "colab_type": "code",
        "outputId": "f7f402e9-0518-42e0-b748-2cb55b8487a6",
        "colab": {
          "base_uri": "https://localhost:8080/",
          "height": 34
        }
      },
      "source": [
        "my_str = 'tattarrattat'\n",
        "# make it suitable for caseless comparison\n",
        "my_str = my_str.casefold()\n",
        "# reverse the string\n",
        "rev_str = reversed(my_str)\n",
        "# check if the string is equal to its reverse\n",
        "if list(my_str) == list(rev_str):\n",
        "   print(\"The string is a palindrome.\")\n",
        "else:\n",
        "   print(\"The string is not a palindrome.\")"
      ],
      "execution_count": 0,
      "outputs": [
        {
          "output_type": "stream",
          "text": [
            "The string is a palindrome.\n"
          ],
          "name": "stdout"
        }
      ]
    },
    {
      "cell_type": "code",
      "metadata": {
        "id": "Zn1xYIHedJXb",
        "colab_type": "code",
        "colab": {}
      },
      "source": [
        "###PRIME NUMBER CHECKER"
      ],
      "execution_count": 0,
      "outputs": []
    },
    {
      "cell_type": "code",
      "metadata": {
        "id": "IaNjUPjB6y92",
        "colab_type": "code",
        "outputId": "e7455659-b851-4d72-a635-cdfa7818c46e",
        "colab": {
          "base_uri": "https://localhost:8080/",
          "height": 34
        }
      },
      "source": [
        "num = 6857\n",
        "if num > 1:\n",
        "  for i in range(2,num):\n",
        "    if (num % i) == 0:\n",
        "      print(num,\"is not a prime number\")\n",
        "      print(i,\"times\",num//i,\"is\",num)\n",
        "      break\n",
        "  else:\n",
        "    print(num,\"is a prime number\")\n"
      ],
      "execution_count": 0,
      "outputs": [
        {
          "output_type": "stream",
          "text": [
            "6857 is a prime number\n"
          ],
          "name": "stdout"
        }
      ]
    },
    {
      "cell_type": "code",
      "metadata": {
        "id": "jWCROPw9_BB6",
        "colab_type": "code",
        "outputId": "cd48fea2-5bd4-413d-8a48-8c22b23439c5",
        "colab": {
          "base_uri": "https://localhost:8080/",
          "height": 34
        }
      },
      "source": [
        "#The prime factors of 13195 are 5, 7, 13 and 29.\n",
        "#What is the largest prime factor of the number 600851475143 ?\n",
        "\n",
        "\n",
        "n = 600851475143\n",
        "def Largest_Prime_Factor(n):\n",
        "    prime_factor = 1\n",
        "    i = 2\n",
        "\n",
        "    while i <= n / i:\n",
        "        if n % i == 0:\n",
        "            prime_factor = i\n",
        "            n /= i\n",
        "        else:\n",
        "            i += 1\n",
        "\n",
        "    if prime_factor < n:\n",
        "        prime_factor = n\n",
        "\n",
        "    return prime_factor\n",
        "  \n",
        "#print(Largest_Prime_Factor(200))\n",
        "#print(Largest_Prime_Factor(330))\n",
        "print(Largest_Prime_Factor(600851475143))"
      ],
      "execution_count": 0,
      "outputs": [
        {
          "output_type": "stream",
          "text": [
            "6857.0\n"
          ],
          "name": "stdout"
        }
      ]
    },
    {
      "cell_type": "code",
      "metadata": {
        "id": "_eBiuJjCEnXp",
        "colab_type": "code",
        "colab": {}
      },
      "source": [
        "#A palindromic number reads the same both ways. The largest palindrome made from the product of two 2-digit numbers is 9009 = 91 × 99.\n",
        "#Find the largest palindrome made from the product of two 3-digit numbers."
      ],
      "execution_count": 0,
      "outputs": []
    },
    {
      "cell_type": "code",
      "metadata": {
        "id": "rrIGB2jTGzjS",
        "colab_type": "code",
        "outputId": "cf520ff6-4598-40d7-840a-8797e1ef1edf",
        "colab": {
          "base_uri": "https://localhost:8080/",
          "height": 34
        }
      },
      "source": [
        "n = 0\n",
        "for a in range(9999, 100, -1):\n",
        "    for b in range(a, 100, -1):\n",
        "        x = a * b\n",
        "        if x > n:\n",
        "            s = str(a * b)\n",
        "            if s == s[::-1]:\n",
        "                n = a * b\n",
        "print(n)"
      ],
      "execution_count": 0,
      "outputs": [
        {
          "output_type": "stream",
          "text": [
            "99000099\n"
          ],
          "name": "stdout"
        }
      ]
    },
    {
      "cell_type": "code",
      "metadata": {
        "id": "rj0Z1tvIG0SA",
        "colab_type": "code",
        "colab": {}
      },
      "source": [
        ""
      ],
      "execution_count": 0,
      "outputs": []
    }
  ]
}